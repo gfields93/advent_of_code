{
 "cells": [
  {
   "cell_type": "code",
   "execution_count": 46,
   "metadata": {},
   "outputs": [],
   "source": [
    "data = None\n",
    "with open('input.txt', 'r') as f:\n",
    "    data = [list(line) for line in f.read().split('\\n')]\n"
   ]
  },
  {
   "cell_type": "code",
   "execution_count": 47,
   "metadata": {},
   "outputs": [
    {
     "name": "stdout",
     "output_type": "stream",
     "text": [
      "Gamma rate 177, Epsilon rate 3918\n",
      "Total power consumption  693486\n",
      "Bit positions\n",
      "{0: 479, 1: 480, 2: 498, 4: 521, 5: 497, 6: 514, 7: 512, 9: 493, 11: 509, 8: 499, 10: 484, 3: 491}\n"
     ]
    }
   ],
   "source": [
    "bit_positions: dict[int, int] = dict()\n",
    "for col in range(len(data)):\n",
    "    for row in range(len(data[col])):\n",
    "        if data[col][row] == '1':\n",
    "            if row not in bit_positions.keys():\n",
    "                bit_positions[row] = 1\n",
    "            else:\n",
    "                bit_positions[row] += 1\n",
    "        else: \n",
    "            continue\n",
    "gamma_rate = \"\"\n",
    "epsilon_rate = \"\"\n",
    "for bit in range(len(bit_positions)):\n",
    "    if bit_positions[bit] >= len(data) // 2:\n",
    "        gamma_rate += '1'\n",
    "        epsilon_rate += '0'\n",
    "    else:\n",
    "        gamma_rate += '0'\n",
    "        epsilon_rate += '1'\n",
    "\n",
    "print(f\"Gamma rate {int(gamma_rate, 2)}, Epsilon rate {int(epsilon_rate, 2)}\")\n",
    "print(f\"Total power consumption  {int(gamma_rate, 2)*int(epsilon_rate, 2)}\")\n",
    "print(f\"Bit positions\\n{bit_positions}\")"
   ]
  },
  {
   "cell_type": "code",
   "execution_count": 48,
   "metadata": {},
   "outputs": [],
   "source": [
    "from copy import deepcopy\n",
    "from typing import Tuple, List\n",
    "\n",
    "# function to ginfd the most and least common digits\n",
    "def findMostAndLeastCommonDigit(list: List[List[str]]) -> Tuple[str, str]:\n",
    "    bit_positions: dict[int, int] = dict()\n",
    "    for col in range(len(list)):\n",
    "        for row in range(len(list[col])):\n",
    "            if list[col][row] == '1':\n",
    "                if row not in bit_positions.keys():\n",
    "                    bit_positions[row] = 1\n",
    "                else:\n",
    "                    bit_positions[row] += 1\n",
    "            else: \n",
    "                continue\n",
    "    gamma_rate = \"\"\n",
    "    epsilon_rate = \"\"\n",
    "    for bit in range(len(bit_positions)):\n",
    "        if bit_positions[bit] >= len(list) // 2:\n",
    "            gamma_rate += '1'\n",
    "            epsilon_rate += '0'\n",
    "        else:\n",
    "            gamma_rate += '0'\n",
    "            epsilon_rate += '1'\n",
    "\n",
    "    return gamma_rate, epsilon_rate\n",
    "\n",
    "    \n",
    "\n",
    "\n",
    "\n",
    "\n"
   ]
  },
  {
   "cell_type": "code",
   "execution_count": 49,
   "metadata": {},
   "outputs": [
    {
     "name": "stdout",
     "output_type": "stream",
     "text": [
      "000010110001\n"
     ]
    }
   ],
   "source": [
    "def AlternateMostCommonBit(src: List[List[str]]) -> str:\n",
    "    mostCommonStr = \"\"\n",
    "    for row in range(len(src[0])):\n",
    "        zero = 0\n",
    "        one = 0\n",
    "        for col in range(len(src)):\n",
    "            if src[col][row] == '0':\n",
    "                zero += 1\n",
    "            else: \n",
    "                one += 1\n",
    "        if zero > one:\n",
    "            mostCommonStr += '0'\n",
    "        else: \n",
    "            mostCommonStr += '1'\n",
    "    \n",
    "    return mostCommonStr\n",
    "\n",
    "print(AlternateMostCommonBit(data))"
   ]
  },
  {
   "cell_type": "code",
   "execution_count": 50,
   "metadata": {},
   "outputs": [
    {
     "name": "stdout",
     "output_type": "stream",
     "text": [
      "Oxygen generator rating 001110100101\n"
     ]
    }
   ],
   "source": [
    "# finding the oxygen generator rating\n",
    "\n",
    "# most_commomn_bits = list(gamma_rate)\n",
    "data_copy = deepcopy(data)\n",
    "\n",
    "for num in range(len(bit_positions)):\n",
    "    # data_copy = list(filter(lambda x: x[num] == bit, data_copy))\n",
    "    gamma = AlternateMostCommonBit(data_copy)\n",
    "    data_copy = [x for x in data_copy if int(x[num]) == int(gamma[num])]\n",
    "    if len(data_copy) == 1: break\n",
    "\n",
    "oxygen_generator_rating = ''.join(data_copy[0])\n",
    "print(f\"Oxygen generator rating {oxygen_generator_rating}\")"
   ]
  },
  {
   "cell_type": "code",
   "execution_count": 51,
   "metadata": {},
   "outputs": [
    {
     "name": "stdout",
     "output_type": "stream",
     "text": [
      "CO2 scrubber rating 111000100110\n"
     ]
    }
   ],
   "source": [
    "# finding CO2 scrubber rating\n",
    "\n",
    "# least_common_bits = list(epsilon_rate)\n",
    "data_copy = deepcopy(data)\n",
    "\n",
    "for num in range(len(bit_positions)):\n",
    "    # data_copy = list(filter(lambda x: x[num] == bit, data_copy))\n",
    "    epsilon = [0 if x == '1' else 1 for x in AlternateMostCommonBit(data_copy)]\n",
    "    data_copy = [x for x in data_copy if int(x[num]) == int(epsilon[num])]\n",
    "    if len(data_copy) == 1: break\n",
    "\n",
    "co2_scrubber_rating = ''.join(data_copy[0])\n",
    "print(f\"CO2 scrubber rating {co2_scrubber_rating}\")\n"
   ]
  },
  {
   "cell_type": "code",
   "execution_count": 52,
   "metadata": {},
   "outputs": [
    {
     "name": "stdout",
     "output_type": "stream",
     "text": [
      "oxygen_binary (933) * co2_binary (3622) = 3379326\n"
     ]
    }
   ],
   "source": [
    "oxygen_binary = int(oxygen_generator_rating, 2)\n",
    "co2_binary = int(co2_scrubber_rating, 2)\n",
    "print(f\"oxygen_binary ({oxygen_binary}) * co2_binary ({co2_binary}) = {oxygen_binary * co2_binary}\")\n"
   ]
  }
 ],
 "metadata": {
  "interpreter": {
   "hash": "d4d1e4263499bec80672ea0156c357c1ee493ec2b1c70f0acce89fc37c4a6abe"
  },
  "kernelspec": {
   "display_name": "Python 3.9.10 ('base')",
   "language": "python",
   "name": "python3"
  },
  "language_info": {
   "codemirror_mode": {
    "name": "ipython",
    "version": 3
   },
   "file_extension": ".py",
   "mimetype": "text/x-python",
   "name": "python",
   "nbconvert_exporter": "python",
   "pygments_lexer": "ipython3",
   "version": "3.9.10"
  },
  "orig_nbformat": 4
 },
 "nbformat": 4,
 "nbformat_minor": 2
}
