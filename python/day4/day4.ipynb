{
 "cells": [
  {
   "cell_type": "code",
   "execution_count": 4,
   "metadata": {},
   "outputs": [
    {
     "data": {
      "text/plain": [
       "[{'22': False,\n",
       "  '13': False,\n",
       "  '17': False,\n",
       "  '11': False,\n",
       "  '0': False,\n",
       "  '8': False,\n",
       "  '2': False,\n",
       "  '23': False,\n",
       "  '4': False,\n",
       "  '24': False,\n",
       "  '21': False,\n",
       "  '9': False,\n",
       "  '14': False,\n",
       "  '16': False,\n",
       "  '7': False,\n",
       "  '6': False,\n",
       "  '10': False,\n",
       "  '3': False,\n",
       "  '18': False,\n",
       "  '5': False,\n",
       "  '1': False,\n",
       "  '12': False,\n",
       "  '20': False,\n",
       "  '15': False,\n",
       "  '19': False},\n",
       " {'3': False,\n",
       "  '15': False,\n",
       "  '0': False,\n",
       "  '2': False,\n",
       "  '22': False,\n",
       "  '9': False,\n",
       "  '18': False,\n",
       "  '13': False,\n",
       "  '17': False,\n",
       "  '5': False,\n",
       "  '19': False,\n",
       "  '8': False,\n",
       "  '7': False,\n",
       "  '25': False,\n",
       "  '23': False,\n",
       "  '20': False,\n",
       "  '11': False,\n",
       "  '10': False,\n",
       "  '24': False,\n",
       "  '4': False,\n",
       "  '14': False,\n",
       "  '21': False,\n",
       "  '16': False,\n",
       "  '12': False,\n",
       "  '6': False},\n",
       " {'14': False,\n",
       "  '21': False,\n",
       "  '17': False,\n",
       "  '24': False,\n",
       "  '4': False,\n",
       "  '10': False,\n",
       "  '16': False,\n",
       "  '15': False,\n",
       "  '9': False,\n",
       "  '19': False,\n",
       "  '18': False,\n",
       "  '8': False,\n",
       "  '23': False,\n",
       "  '26': False,\n",
       "  '20': False,\n",
       "  '22': False,\n",
       "  '11': False,\n",
       "  '13': False,\n",
       "  '6': False,\n",
       "  '5': False,\n",
       "  '2': False,\n",
       "  '0': False,\n",
       "  '12': False,\n",
       "  '3': False,\n",
       "  '7': False}]"
      ]
     },
     "execution_count": 4,
     "metadata": {},
     "output_type": "execute_result"
    }
   ],
   "source": [
    "from typing import List, Dict, Set\n",
    "\n",
    "calledNumbers: Set[str] = None\n",
    "cards: List[Dict[str, bool]] = [{}]\n",
    "with open('input.txt', 'r') as fp:\n",
    "    calledNumbers = fp.readline().strip().split(',')\n",
    "    fp.readline()\n",
    "    cardNum = 0\n",
    "    for line in fp:\n",
    "        if line == '\\n':\n",
    "            cards.append({})\n",
    "            cardNum += 1\n",
    "        else:\n",
    "            for x in [val for val in line.strip().split(' ') if val.isalnum()]:\n",
    "                cards[cardNum][x] = False\n",
    "\n",
    "\n",
    "calledNumbers\n",
    "cards"
   ]
  },
  {
   "cell_type": "code",
   "execution_count": null,
   "metadata": {},
   "outputs": [],
   "source": []
  },
  {
   "cell_type": "code",
   "execution_count": 3,
   "metadata": {},
   "outputs": [],
   "source": [
    "for num in calledNumbers:\n",
    "    for card in cards:\n",
    "        if card.get(num) or card.get(num) == None:\n",
    "            continue\n",
    "        else:\n",
    "            card[num] = True\n",
    "\n",
    "            "
   ]
  }
 ],
 "metadata": {
  "interpreter": {
   "hash": "d4d1e4263499bec80672ea0156c357c1ee493ec2b1c70f0acce89fc37c4a6abe"
  },
  "kernelspec": {
   "display_name": "Python 3.10.4 ('base')",
   "language": "python",
   "name": "python3"
  },
  "language_info": {
   "codemirror_mode": {
    "name": "ipython",
    "version": 3
   },
   "file_extension": ".py",
   "mimetype": "text/x-python",
   "name": "python",
   "nbconvert_exporter": "python",
   "pygments_lexer": "ipython3",
   "version": "3.8.5"
  },
  "orig_nbformat": 4
 },
 "nbformat": 4,
 "nbformat_minor": 2
}
